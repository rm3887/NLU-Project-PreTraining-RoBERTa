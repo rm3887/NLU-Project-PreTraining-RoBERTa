{
  "nbformat": 4,
  "nbformat_minor": 0,
  "metadata": {
    "colab": {
      "name": "code.ipynb",
      "provenance": [],
      "collapsed_sections": [],
      "mount_file_id": "13mLyst81LhAwn1g03p1-7Wc90JyM2oKO",
      "authorship_tag": "ABX9TyMLa7Zg64rCGR+ENMDFEL/f",
      "include_colab_link": true
    },
    "kernelspec": {
      "name": "python3",
      "display_name": "Python 3"
    }
  },
  "cells": [
    {
      "cell_type": "markdown",
      "metadata": {
        "id": "view-in-github",
        "colab_type": "text"
      },
      "source": [
        "<a href=\"https://colab.research.google.com/github/rm3887/NLU-Project-RoBERTa/blob/master/code.ipynb\" target=\"_parent\"><img src=\"https://colab.research.google.com/assets/colab-badge.svg\" alt=\"Open In Colab\"/></a>"
      ]
    },
    {
      "cell_type": "code",
      "metadata": {
        "id": "ECR_9pl16DKI",
        "colab_type": "code",
        "colab": {}
      },
      "source": [
        "import pandas as pd\n",
        "import numpy as np"
      ],
      "execution_count": 0,
      "outputs": []
    },
    {
      "cell_type": "code",
      "metadata": {
        "id": "I0y23vYl6HLq",
        "colab_type": "code",
        "colab": {}
      },
      "source": [
        "url = 'https://raw.githubusercontent.com/rm3887/NLU-Project-RoBERTa/master/modlog%20-%20modlog.csv'\n",
        "df = pd.read_csv(url)"
      ],
      "execution_count": 0,
      "outputs": []
    },
    {
      "cell_type": "code",
      "metadata": {
        "id": "g8Qpbgfa6SfD",
        "colab_type": "code",
        "colab": {}
      },
      "source": [
        "df.drop(['Mod_Name', 'Removal_Reason'], inplace = True, axis=1)"
      ],
      "execution_count": 0,
      "outputs": []
    },
    {
      "cell_type": "code",
      "metadata": {
        "id": "9xtL6BOv6k_9",
        "colab_type": "code",
        "colab": {}
      },
      "source": [
        "df.replace('approvecomment', 1, inplace=True)\n",
        "df.replace('removecomment', 0, inplace=True)\n",
        "df.replace('\\n',' ', regex=True, inplace = True)"
      ],
      "execution_count": 0,
      "outputs": []
    },
    {
      "cell_type": "code",
      "metadata": {
        "id": "RpCHEBptVNaT",
        "colab_type": "code",
        "colab": {}
      },
      "source": [
        "df.Text = df.Text.str.replace('\\t', ' ')"
      ],
      "execution_count": 0,
      "outputs": []
    },
    {
      "cell_type": "code",
      "metadata": {
        "id": "FmwJjOw86_tA",
        "colab_type": "code",
        "colab": {}
      },
      "source": [
        "val_size = int(df.shape[0] * 0.15)\n",
        "test_size = int(df.shape[0] * 0.15)\n",
        "\n",
        "df = df.sample(frac=1)\n",
        "\n",
        "test_df = df[:test_size]\n",
        "val_df = df[test_size: test_size + val_size]\n",
        "train_df = df[test_size + val_size: ]"
      ],
      "execution_count": 0,
      "outputs": []
    },
    {
      "cell_type": "code",
      "metadata": {
        "id": "9XDhsqPo8Heo",
        "colab_type": "code",
        "colab": {}
      },
      "source": [
        "def percentages(target_df, total_df):\n",
        "  return len(target_df)/len(total_df)"
      ],
      "execution_count": 0,
      "outputs": []
    },
    {
      "cell_type": "code",
      "metadata": {
        "id": "1Y5DynNt7AH8",
        "colab_type": "code",
        "outputId": "33102077-a6df-4ee0-b78c-6d45bf855aeb",
        "colab": {
          "base_uri": "https://localhost:8080/",
          "height": 90
        }
      },
      "source": [
        "print(\"DF size: \", percentages(df,df))\n",
        "print(\"TRAIN_DF size: \", percentages(train_df,df))\n",
        "print(\"VAL_DF size: \", percentages(val_df,df))\n",
        "print(\"TEST_DF size: \", percentages(test_df,df))"
      ],
      "execution_count": 0,
      "outputs": [
        {
          "output_type": "stream",
          "text": [
            "DF size:  1.0\n",
            "TRAIN_DF size:  0.700058582308143\n",
            "VAL_DF size:  0.14997070884592853\n",
            "TEST_DF size:  0.14997070884592853\n"
          ],
          "name": "stdout"
        }
      ]
    },
    {
      "cell_type": "code",
      "metadata": {
        "id": "tyYqfxatRHbe",
        "colab_type": "code",
        "outputId": "474a0df8-4fd9-4166-eac9-b48f3b2d6574",
        "colab": {
          "base_uri": "https://localhost:8080/",
          "height": 424
        }
      },
      "source": [
        "train_df"
      ],
      "execution_count": 0,
      "outputs": [
        {
          "output_type": "execute_result",
          "data": {
            "text/html": [
              "<div>\n",
              "<style scoped>\n",
              "    .dataframe tbody tr th:only-of-type {\n",
              "        vertical-align: middle;\n",
              "    }\n",
              "\n",
              "    .dataframe tbody tr th {\n",
              "        vertical-align: top;\n",
              "    }\n",
              "\n",
              "    .dataframe thead th {\n",
              "        text-align: right;\n",
              "    }\n",
              "</style>\n",
              "<table border=\"1\" class=\"dataframe\">\n",
              "  <thead>\n",
              "    <tr style=\"text-align: right;\">\n",
              "      <th></th>\n",
              "      <th>Text</th>\n",
              "      <th>Action</th>\n",
              "    </tr>\n",
              "  </thead>\n",
              "  <tbody>\n",
              "    <tr>\n",
              "      <th>342</th>\n",
              "      <td>Lmao Kobe even shaved his moustache like Jorda...</td>\n",
              "      <td>1</td>\n",
              "    </tr>\n",
              "    <tr>\n",
              "      <th>544</th>\n",
              "      <td>If you raise minimum wage, you raise the wages...</td>\n",
              "      <td>1</td>\n",
              "    </tr>\n",
              "    <tr>\n",
              "      <th>10098</th>\n",
              "      <td>This why a National Lockdown would be crazy.  ...</td>\n",
              "      <td>0</td>\n",
              "    </tr>\n",
              "    <tr>\n",
              "      <th>1538</th>\n",
              "      <td>My hatred cannot he captured with just one com...</td>\n",
              "      <td>1</td>\n",
              "    </tr>\n",
              "    <tr>\n",
              "      <th>1962</th>\n",
              "      <td>Kobe only cares about the W</td>\n",
              "      <td>1</td>\n",
              "    </tr>\n",
              "    <tr>\n",
              "      <th>...</th>\n",
              "      <td>...</td>\n",
              "      <td>...</td>\n",
              "    </tr>\n",
              "    <tr>\n",
              "      <th>1310</th>\n",
              "      <td>They live in Indiana. This is all they have to...</td>\n",
              "      <td>1</td>\n",
              "    </tr>\n",
              "    <tr>\n",
              "      <th>2461</th>\n",
              "      <td>The mods are ridiculous: https://imgur.com/o10...</td>\n",
              "      <td>1</td>\n",
              "    </tr>\n",
              "    <tr>\n",
              "      <th>9030</th>\n",
              "      <td>Hopefully selling your team is a symptom of co...</td>\n",
              "      <td>0</td>\n",
              "    </tr>\n",
              "    <tr>\n",
              "      <th>13012</th>\n",
              "      <td>...are you fucking retarded?</td>\n",
              "      <td>0</td>\n",
              "    </tr>\n",
              "    <tr>\n",
              "      <th>8961</th>\n",
              "      <td>This is the most positive thing to happen to t...</td>\n",
              "      <td>0</td>\n",
              "    </tr>\n",
              "  </tbody>\n",
              "</table>\n",
              "<p>9560 rows × 2 columns</p>\n",
              "</div>"
            ],
            "text/plain": [
              "                                                    Text  Action\n",
              "342    Lmao Kobe even shaved his moustache like Jorda...       1\n",
              "544    If you raise minimum wage, you raise the wages...       1\n",
              "10098  This why a National Lockdown would be crazy.  ...       0\n",
              "1538   My hatred cannot he captured with just one com...       1\n",
              "1962                         Kobe only cares about the W       1\n",
              "...                                                  ...     ...\n",
              "1310   They live in Indiana. This is all they have to...       1\n",
              "2461   The mods are ridiculous: https://imgur.com/o10...       1\n",
              "9030   Hopefully selling your team is a symptom of co...       0\n",
              "13012                       ...are you fucking retarded?       0\n",
              "8961   This is the most positive thing to happen to t...       0\n",
              "\n",
              "[9560 rows x 2 columns]"
            ]
          },
          "metadata": {
            "tags": []
          },
          "execution_count": 45
        }
      ]
    },
    {
      "cell_type": "code",
      "metadata": {
        "id": "zJvLCT8d8c7s",
        "colab_type": "code",
        "colab": {}
      },
      "source": [
        "train_df.to_csv(\"/tmp/data/train.tsv\", sep='\\t', index=False, header=True)\n",
        "val_df.to_csv(\"/tmp/data/dev.tsv\", sep='\\t', index=False, header=True)\n",
        "test_df.to_csv(\"/tmp/data/test.tsv\", sep='\\t', index=False, header=True)"
      ],
      "execution_count": 0,
      "outputs": []
    },
    {
      "cell_type": "code",
      "metadata": {
        "id": "UZASoYbw8udL",
        "colab_type": "code",
        "outputId": "941b5fbb-1cf9-490b-935e-b7b2891f30f7",
        "colab": {
          "base_uri": "https://localhost:8080/",
          "height": 108
        }
      },
      "source": [
        "import shutil\n",
        "!zip -r /content/reddit_data.zip /tmp/data/\n",
        "\n",
        "shutil.move(\"/content/reddit_data.zip\", \"/content/drive/My Drive/Colab Notebooks/NLU/\")"
      ],
      "execution_count": 0,
      "outputs": [
        {
          "output_type": "stream",
          "text": [
            "  adding: tmp/data/ (stored 0%)\n",
            "  adding: tmp/data/train.tsv (deflated 58%)\n",
            "  adding: tmp/data/dev.tsv (deflated 58%)\n",
            "  adding: tmp/data/test.tsv (deflated 57%)\n"
          ],
          "name": "stdout"
        },
        {
          "output_type": "execute_result",
          "data": {
            "text/plain": [
              "'/content/drive/My Drive/Colab Notebooks/NLU/reddit_data.zip'"
            ]
          },
          "metadata": {
            "tags": []
          },
          "execution_count": 45
        }
      ]
    },
    {
      "cell_type": "code",
      "metadata": {
        "id": "AArHLC-s__sN",
        "colab_type": "code",
        "outputId": "68b3cd7e-6d3f-4421-d3ed-5bc0eed1d9c9",
        "colab": {
          "base_uri": "https://localhost:8080/",
          "height": 72
        }
      },
      "source": [
        "print(max(train_df.Text.str.len()))\n",
        "print(max(val_df.Text.str.len()))\n",
        "print(max(test_df.Text.str.len()))"
      ],
      "execution_count": 0,
      "outputs": [
        {
          "output_type": "stream",
          "text": [
            "9944.0\n",
            "6988.0\n",
            "6989.0\n"
          ],
          "name": "stdout"
        }
      ]
    },
    {
      "cell_type": "code",
      "metadata": {
        "id": "7CTORLTSYYsE",
        "colab_type": "code",
        "colab": {}
      },
      "source": [
        "url = 'https://raw.githubusercontent.com/rm3887/NLU-Project-RoBERTa/master/roberta-results.csv'"
      ],
      "execution_count": 0,
      "outputs": []
    },
    {
      "cell_type": "code",
      "metadata": {
        "id": "Ldd2qZ0H9QKd",
        "colab_type": "code",
        "colab": {}
      },
      "source": [
        "results = pd.read_csv(url)"
      ],
      "execution_count": 0,
      "outputs": []
    },
    {
      "cell_type": "code",
      "metadata": {
        "id": "Iv1wKarY9Sgq",
        "colab_type": "code",
        "colab": {}
      },
      "source": [
        "best = results.iloc[results.groupby(['BATCH_SIZE'])['ACCURACY'].idxmax()].reset_index().drop('index', axis=1)\n",
        "best_2 = results.iloc[results.groupby(['BATCH_SIZE'])['F1 SCORE'].idxmax()].reset_index().drop('index', axis=1)"
      ],
      "execution_count": 0,
      "outputs": []
    },
    {
      "cell_type": "markdown",
      "metadata": {
        "id": "C33w3F76Ct6h",
        "colab_type": "text"
      },
      "source": [
        "Baseline model found at https://github.com/anushapatil5/NLU-ContentModeration"
      ]
    },
    {
      "cell_type": "code",
      "metadata": {
        "id": "zHEejdaS97Bx",
        "colab_type": "code",
        "colab": {}
      },
      "source": [
        "from_baseline_acc = [0.744140625, 0.74560546875, 0.74658203125, 0.73876953125, 0.7265625]"
      ],
      "execution_count": 0,
      "outputs": []
    },
    {
      "cell_type": "code",
      "metadata": {
        "id": "fDBe40hbC1ac",
        "colab_type": "code",
        "outputId": "3e24d0d8-b14d-45a6-b3e5-cb9430209706",
        "colab": {
          "base_uri": "https://localhost:8080/",
          "height": 34
        }
      },
      "source": [
        "max(from_baseline_acc)"
      ],
      "execution_count": 0,
      "outputs": [
        {
          "output_type": "execute_result",
          "data": {
            "text/plain": [
              "0.74658203125"
            ]
          },
          "metadata": {
            "tags": []
          },
          "execution_count": 16
        }
      ]
    },
    {
      "cell_type": "code",
      "metadata": {
        "id": "ivr1BK6oC4fS",
        "colab_type": "code",
        "colab": {}
      },
      "source": [
        "bar_y = [max(from_baseline_acc), best['ACCURACY'].max()]\n",
        "bar_x = ['BiLSTM', 'RoBERTa']"
      ],
      "execution_count": 0,
      "outputs": []
    },
    {
      "cell_type": "code",
      "metadata": {
        "id": "rTmab37VDGcd",
        "colab_type": "code",
        "outputId": "d5ca8141-d6df-43c3-ace9-cf9f25b46e07",
        "colab": {
          "base_uri": "https://localhost:8080/",
          "height": 281
        }
      },
      "source": [
        "import matplotlib.pyplot as plt\n",
        "import math\n",
        "\n",
        "low = min(bar_y)\n",
        "high = max(bar_y)\n",
        "plt.bar(bar_x, bar_y, color = 'orange')\n",
        "plt.ylim((0.7,0.8))\n",
        "plt.ylabel(\"Accuracy\")\n",
        "plt.title(\"Accuracy: Baseline vs Experimental Models\")\n",
        "for i, v in enumerate(bar_y):\n",
        "    plt.text(i-0.2, v, \"{:.8}\".format(str(v)), color='black', fontweight='bold')"
      ],
      "execution_count": 0,
      "outputs": [
        {
          "output_type": "display_data",
          "data": {
            "image/png": "[encoded data removed]",
            "text/plain": [
              "<Figure size 432x288 with 1 Axes>"
            ]
          },
          "metadata": {
            "tags": [],
            "needs_background": "light"
          }
        }
      ]
    },
    {
      "cell_type": "code",
      "metadata": {
        "id": "mJYtrtKWFJxP",
        "colab_type": "code",
        "outputId": "a3e6c1d1-b955-4e88-fa3d-388e962ac343",
        "colab": {
          "base_uri": "https://localhost:8080/",
          "height": 424
        }
      },
      "source": [
        "results"
      ],
      "execution_count": 0,
      "outputs": [
        {
          "output_type": "execute_result",
          "data": {
            "text/html": [
              "<div>\n",
              "<style scoped>\n",
              "    .dataframe tbody tr th:only-of-type {\n",
              "        vertical-align: middle;\n",
              "    }\n",
              "\n",
              "    .dataframe tbody tr th {\n",
              "        vertical-align: top;\n",
              "    }\n",
              "\n",
              "    .dataframe thead th {\n",
              "        text-align: right;\n",
              "    }\n",
              "</style>\n",
              "<table border=\"1\" class=\"dataframe\">\n",
              "  <thead>\n",
              "    <tr style=\"text-align: right;\">\n",
              "      <th></th>\n",
              "      <th>BATCH_SIZE</th>\n",
              "      <th>SEQ_LENGTH</th>\n",
              "      <th>LEARNING RATE</th>\n",
              "      <th>ACCURACY</th>\n",
              "      <th>PRECISION</th>\n",
              "      <th>RECALL</th>\n",
              "      <th>F1 SCORE</th>\n",
              "    </tr>\n",
              "  </thead>\n",
              "  <tbody>\n",
              "    <tr>\n",
              "      <th>0</th>\n",
              "      <td>8</td>\n",
              "      <td>256</td>\n",
              "      <td>0.00001</td>\n",
              "      <td>0.750488</td>\n",
              "      <td>0.834783</td>\n",
              "      <td>0.825397</td>\n",
              "      <td>0.830063</td>\n",
              "    </tr>\n",
              "    <tr>\n",
              "      <th>1</th>\n",
              "      <td>8</td>\n",
              "      <td>256</td>\n",
              "      <td>0.00005</td>\n",
              "      <td>0.738281</td>\n",
              "      <td>0.738281</td>\n",
              "      <td>1.000000</td>\n",
              "      <td>0.849438</td>\n",
              "    </tr>\n",
              "    <tr>\n",
              "      <th>2</th>\n",
              "      <td>8</td>\n",
              "      <td>256</td>\n",
              "      <td>0.00010</td>\n",
              "      <td>0.738281</td>\n",
              "      <td>0.738281</td>\n",
              "      <td>1.000000</td>\n",
              "      <td>0.849438</td>\n",
              "    </tr>\n",
              "    <tr>\n",
              "      <th>3</th>\n",
              "      <td>8</td>\n",
              "      <td>256</td>\n",
              "      <td>0.00050</td>\n",
              "      <td>0.738281</td>\n",
              "      <td>0.738281</td>\n",
              "      <td>1.000000</td>\n",
              "      <td>0.849438</td>\n",
              "    </tr>\n",
              "    <tr>\n",
              "      <th>4</th>\n",
              "      <td>8</td>\n",
              "      <td>256</td>\n",
              "      <td>0.00100</td>\n",
              "      <td>0.738281</td>\n",
              "      <td>0.738281</td>\n",
              "      <td>1.000000</td>\n",
              "      <td>0.849438</td>\n",
              "    </tr>\n",
              "    <tr>\n",
              "      <th>...</th>\n",
              "      <td>...</td>\n",
              "      <td>...</td>\n",
              "      <td>...</td>\n",
              "      <td>...</td>\n",
              "      <td>...</td>\n",
              "      <td>...</td>\n",
              "      <td>...</td>\n",
              "    </tr>\n",
              "    <tr>\n",
              "      <th>99</th>\n",
              "      <td>128</td>\n",
              "      <td>32</td>\n",
              "      <td>0.00005</td>\n",
              "      <td>0.739258</td>\n",
              "      <td>0.807161</td>\n",
              "      <td>0.849868</td>\n",
              "      <td>0.827964</td>\n",
              "    </tr>\n",
              "    <tr>\n",
              "      <th>100</th>\n",
              "      <td>128</td>\n",
              "      <td>32</td>\n",
              "      <td>0.00010</td>\n",
              "      <td>0.751953</td>\n",
              "      <td>0.807975</td>\n",
              "      <td>0.871032</td>\n",
              "      <td>0.838320</td>\n",
              "    </tr>\n",
              "    <tr>\n",
              "      <th>101</th>\n",
              "      <td>128</td>\n",
              "      <td>32</td>\n",
              "      <td>0.00050</td>\n",
              "      <td>0.738281</td>\n",
              "      <td>0.738281</td>\n",
              "      <td>1.000000</td>\n",
              "      <td>0.849438</td>\n",
              "    </tr>\n",
              "    <tr>\n",
              "      <th>102</th>\n",
              "      <td>128</td>\n",
              "      <td>32</td>\n",
              "      <td>0.00100</td>\n",
              "      <td>0.738281</td>\n",
              "      <td>0.738281</td>\n",
              "      <td>1.000000</td>\n",
              "      <td>0.849438</td>\n",
              "    </tr>\n",
              "    <tr>\n",
              "      <th>103</th>\n",
              "      <td>128</td>\n",
              "      <td>32</td>\n",
              "      <td>0.00500</td>\n",
              "      <td>0.738281</td>\n",
              "      <td>0.738281</td>\n",
              "      <td>1.000000</td>\n",
              "      <td>0.849438</td>\n",
              "    </tr>\n",
              "  </tbody>\n",
              "</table>\n",
              "<p>104 rows × 7 columns</p>\n",
              "</div>"
            ],
            "text/plain": [
              "     BATCH_SIZE  SEQ_LENGTH  LEARNING RATE  ...  PRECISION    RECALL  F1 SCORE\n",
              "0             8         256        0.00001  ...   0.834783  0.825397  0.830063\n",
              "1             8         256        0.00005  ...   0.738281  1.000000  0.849438\n",
              "2             8         256        0.00010  ...   0.738281  1.000000  0.849438\n",
              "3             8         256        0.00050  ...   0.738281  1.000000  0.849438\n",
              "4             8         256        0.00100  ...   0.738281  1.000000  0.849438\n",
              "..          ...         ...            ...  ...        ...       ...       ...\n",
              "99          128          32        0.00005  ...   0.807161  0.849868  0.827964\n",
              "100         128          32        0.00010  ...   0.807975  0.871032  0.838320\n",
              "101         128          32        0.00050  ...   0.738281  1.000000  0.849438\n",
              "102         128          32        0.00100  ...   0.738281  1.000000  0.849438\n",
              "103         128          32        0.00500  ...   0.738281  1.000000  0.849438\n",
              "\n",
              "[104 rows x 7 columns]"
            ]
          },
          "metadata": {
            "tags": []
          },
          "execution_count": 9
        }
      ]
    },
    {
      "cell_type": "code",
      "metadata": {
        "id": "D96IPJlchtkp",
        "colab_type": "code",
        "colab": {}
      },
      "source": [
        "r = results[results['RECALL'] == 1].reset_index(drop=True)"
      ],
      "execution_count": 0,
      "outputs": []
    },
    {
      "cell_type": "code",
      "metadata": {
        "id": "Cg0ocw2oPRrV",
        "colab_type": "code",
        "outputId": "a4c0fbcd-5692-4ef6-89a2-b0f51e6473f1",
        "colab": {
          "base_uri": "https://localhost:8080/",
          "height": 254
        }
      },
      "source": [
        "a = r.sample(frac = 0.1).sort_values(['BATCH_SIZE', 'SEQ_LENGTH'])\n",
        "a"
      ],
      "execution_count": 0,
      "outputs": [
        {
          "output_type": "execute_result",
          "data": {
            "text/html": [
              "<div>\n",
              "<style scoped>\n",
              "    .dataframe tbody tr th:only-of-type {\n",
              "        vertical-align: middle;\n",
              "    }\n",
              "\n",
              "    .dataframe tbody tr th {\n",
              "        vertical-align: top;\n",
              "    }\n",
              "\n",
              "    .dataframe thead th {\n",
              "        text-align: right;\n",
              "    }\n",
              "</style>\n",
              "<table border=\"1\" class=\"dataframe\">\n",
              "  <thead>\n",
              "    <tr style=\"text-align: right;\">\n",
              "      <th></th>\n",
              "      <th>BATCH_SIZE</th>\n",
              "      <th>SEQ_LENGTH</th>\n",
              "      <th>LEARNING RATE</th>\n",
              "      <th>ACCURACY</th>\n",
              "      <th>PRECISION</th>\n",
              "      <th>RECALL</th>\n",
              "      <th>F1 SCORE</th>\n",
              "    </tr>\n",
              "  </thead>\n",
              "  <tbody>\n",
              "    <tr>\n",
              "      <th>1</th>\n",
              "      <td>8</td>\n",
              "      <td>256</td>\n",
              "      <td>0.0001</td>\n",
              "      <td>0.738281</td>\n",
              "      <td>0.738281</td>\n",
              "      <td>1.0</td>\n",
              "      <td>0.849438</td>\n",
              "    </tr>\n",
              "    <tr>\n",
              "      <th>26</th>\n",
              "      <td>16</td>\n",
              "      <td>64</td>\n",
              "      <td>0.0001</td>\n",
              "      <td>0.738281</td>\n",
              "      <td>0.738281</td>\n",
              "      <td>1.0</td>\n",
              "      <td>0.849438</td>\n",
              "    </tr>\n",
              "    <tr>\n",
              "      <th>48</th>\n",
              "      <td>32</td>\n",
              "      <td>32</td>\n",
              "      <td>0.0005</td>\n",
              "      <td>0.738281</td>\n",
              "      <td>0.738281</td>\n",
              "      <td>1.0</td>\n",
              "      <td>0.849438</td>\n",
              "    </tr>\n",
              "    <tr>\n",
              "      <th>37</th>\n",
              "      <td>32</td>\n",
              "      <td>256</td>\n",
              "      <td>0.0010</td>\n",
              "      <td>0.738281</td>\n",
              "      <td>0.738281</td>\n",
              "      <td>1.0</td>\n",
              "      <td>0.849438</td>\n",
              "    </tr>\n",
              "    <tr>\n",
              "      <th>59</th>\n",
              "      <td>64</td>\n",
              "      <td>64</td>\n",
              "      <td>0.0005</td>\n",
              "      <td>0.738281</td>\n",
              "      <td>0.738281</td>\n",
              "      <td>1.0</td>\n",
              "      <td>0.849438</td>\n",
              "    </tr>\n",
              "    <tr>\n",
              "      <th>69</th>\n",
              "      <td>128</td>\n",
              "      <td>32</td>\n",
              "      <td>0.0005</td>\n",
              "      <td>0.738281</td>\n",
              "      <td>0.738281</td>\n",
              "      <td>1.0</td>\n",
              "      <td>0.849438</td>\n",
              "    </tr>\n",
              "    <tr>\n",
              "      <th>68</th>\n",
              "      <td>128</td>\n",
              "      <td>64</td>\n",
              "      <td>0.0050</td>\n",
              "      <td>0.738281</td>\n",
              "      <td>0.738281</td>\n",
              "      <td>1.0</td>\n",
              "      <td>0.849438</td>\n",
              "    </tr>\n",
              "  </tbody>\n",
              "</table>\n",
              "</div>"
            ],
            "text/plain": [
              "    BATCH_SIZE  SEQ_LENGTH  LEARNING RATE  ...  PRECISION  RECALL  F1 SCORE\n",
              "1            8         256         0.0001  ...   0.738281     1.0  0.849438\n",
              "26          16          64         0.0001  ...   0.738281     1.0  0.849438\n",
              "48          32          32         0.0005  ...   0.738281     1.0  0.849438\n",
              "37          32         256         0.0010  ...   0.738281     1.0  0.849438\n",
              "59          64          64         0.0005  ...   0.738281     1.0  0.849438\n",
              "69         128          32         0.0005  ...   0.738281     1.0  0.849438\n",
              "68         128          64         0.0050  ...   0.738281     1.0  0.849438\n",
              "\n",
              "[7 rows x 7 columns]"
            ]
          },
          "metadata": {
            "tags": []
          },
          "execution_count": 51
        }
      ]
    },
    {
      "cell_type": "code",
      "metadata": {
        "id": "ajykeFhxPV8k",
        "colab_type": "code",
        "outputId": "0d563060-c1d4-4764-9c64-30887852ead3",
        "colab": {
          "base_uri": "https://localhost:8080/",
          "height": 402
        }
      },
      "source": [
        "best.append(a, ignore_index=True).sort_values(['BATCH_SIZE', 'SEQ_LENGTH'])"
      ],
      "execution_count": 0,
      "outputs": [
        {
          "output_type": "execute_result",
          "data": {
            "text/html": [
              "<div>\n",
              "<style scoped>\n",
              "    .dataframe tbody tr th:only-of-type {\n",
              "        vertical-align: middle;\n",
              "    }\n",
              "\n",
              "    .dataframe tbody tr th {\n",
              "        vertical-align: top;\n",
              "    }\n",
              "\n",
              "    .dataframe thead th {\n",
              "        text-align: right;\n",
              "    }\n",
              "</style>\n",
              "<table border=\"1\" class=\"dataframe\">\n",
              "  <thead>\n",
              "    <tr style=\"text-align: right;\">\n",
              "      <th></th>\n",
              "      <th>BATCH_SIZE</th>\n",
              "      <th>SEQ_LENGTH</th>\n",
              "      <th>LEARNING RATE</th>\n",
              "      <th>ACCURACY</th>\n",
              "      <th>PRECISION</th>\n",
              "      <th>RECALL</th>\n",
              "      <th>F1 SCORE</th>\n",
              "    </tr>\n",
              "  </thead>\n",
              "  <tbody>\n",
              "    <tr>\n",
              "      <th>0</th>\n",
              "      <td>8</td>\n",
              "      <td>64</td>\n",
              "      <td>0.00001</td>\n",
              "      <td>0.759277</td>\n",
              "      <td>0.818637</td>\n",
              "      <td>0.865741</td>\n",
              "      <td>0.841530</td>\n",
              "    </tr>\n",
              "    <tr>\n",
              "      <th>5</th>\n",
              "      <td>8</td>\n",
              "      <td>256</td>\n",
              "      <td>0.00010</td>\n",
              "      <td>0.738281</td>\n",
              "      <td>0.738281</td>\n",
              "      <td>1.000000</td>\n",
              "      <td>0.849438</td>\n",
              "    </tr>\n",
              "    <tr>\n",
              "      <th>6</th>\n",
              "      <td>16</td>\n",
              "      <td>64</td>\n",
              "      <td>0.00010</td>\n",
              "      <td>0.738281</td>\n",
              "      <td>0.738281</td>\n",
              "      <td>1.000000</td>\n",
              "      <td>0.849438</td>\n",
              "    </tr>\n",
              "    <tr>\n",
              "      <th>1</th>\n",
              "      <td>16</td>\n",
              "      <td>256</td>\n",
              "      <td>0.00005</td>\n",
              "      <td>0.759766</td>\n",
              "      <td>0.812155</td>\n",
              "      <td>0.875000</td>\n",
              "      <td>0.842407</td>\n",
              "    </tr>\n",
              "    <tr>\n",
              "      <th>7</th>\n",
              "      <td>32</td>\n",
              "      <td>32</td>\n",
              "      <td>0.00050</td>\n",
              "      <td>0.738281</td>\n",
              "      <td>0.738281</td>\n",
              "      <td>1.000000</td>\n",
              "      <td>0.849438</td>\n",
              "    </tr>\n",
              "    <tr>\n",
              "      <th>2</th>\n",
              "      <td>32</td>\n",
              "      <td>128</td>\n",
              "      <td>0.00005</td>\n",
              "      <td>0.771973</td>\n",
              "      <td>0.826359</td>\n",
              "      <td>0.875000</td>\n",
              "      <td>0.849984</td>\n",
              "    </tr>\n",
              "    <tr>\n",
              "      <th>8</th>\n",
              "      <td>32</td>\n",
              "      <td>256</td>\n",
              "      <td>0.00100</td>\n",
              "      <td>0.738281</td>\n",
              "      <td>0.738281</td>\n",
              "      <td>1.000000</td>\n",
              "      <td>0.849438</td>\n",
              "    </tr>\n",
              "    <tr>\n",
              "      <th>9</th>\n",
              "      <td>64</td>\n",
              "      <td>64</td>\n",
              "      <td>0.00050</td>\n",
              "      <td>0.738281</td>\n",
              "      <td>0.738281</td>\n",
              "      <td>1.000000</td>\n",
              "      <td>0.849438</td>\n",
              "    </tr>\n",
              "    <tr>\n",
              "      <th>3</th>\n",
              "      <td>64</td>\n",
              "      <td>256</td>\n",
              "      <td>0.00005</td>\n",
              "      <td>0.761230</td>\n",
              "      <td>0.817111</td>\n",
              "      <td>0.871693</td>\n",
              "      <td>0.843520</td>\n",
              "    </tr>\n",
              "    <tr>\n",
              "      <th>10</th>\n",
              "      <td>128</td>\n",
              "      <td>32</td>\n",
              "      <td>0.00050</td>\n",
              "      <td>0.738281</td>\n",
              "      <td>0.738281</td>\n",
              "      <td>1.000000</td>\n",
              "      <td>0.849438</td>\n",
              "    </tr>\n",
              "    <tr>\n",
              "      <th>4</th>\n",
              "      <td>128</td>\n",
              "      <td>64</td>\n",
              "      <td>0.00010</td>\n",
              "      <td>0.752930</td>\n",
              "      <td>0.787679</td>\n",
              "      <td>0.871032</td>\n",
              "      <td>0.827261</td>\n",
              "    </tr>\n",
              "    <tr>\n",
              "      <th>11</th>\n",
              "      <td>128</td>\n",
              "      <td>64</td>\n",
              "      <td>0.00500</td>\n",
              "      <td>0.738281</td>\n",
              "      <td>0.738281</td>\n",
              "      <td>1.000000</td>\n",
              "      <td>0.849438</td>\n",
              "    </tr>\n",
              "  </tbody>\n",
              "</table>\n",
              "</div>"
            ],
            "text/plain": [
              "    BATCH_SIZE  SEQ_LENGTH  LEARNING RATE  ...  PRECISION    RECALL  F1 SCORE\n",
              "0            8          64        0.00001  ...   0.818637  0.865741  0.841530\n",
              "5            8         256        0.00010  ...   0.738281  1.000000  0.849438\n",
              "6           16          64        0.00010  ...   0.738281  1.000000  0.849438\n",
              "1           16         256        0.00005  ...   0.812155  0.875000  0.842407\n",
              "7           32          32        0.00050  ...   0.738281  1.000000  0.849438\n",
              "2           32         128        0.00005  ...   0.826359  0.875000  0.849984\n",
              "8           32         256        0.00100  ...   0.738281  1.000000  0.849438\n",
              "9           64          64        0.00050  ...   0.738281  1.000000  0.849438\n",
              "3           64         256        0.00005  ...   0.817111  0.871693  0.843520\n",
              "10         128          32        0.00050  ...   0.738281  1.000000  0.849438\n",
              "4          128          64        0.00010  ...   0.787679  0.871032  0.827261\n",
              "11         128          64        0.00500  ...   0.738281  1.000000  0.849438\n",
              "\n",
              "[12 rows x 7 columns]"
            ]
          },
          "metadata": {
            "tags": []
          },
          "execution_count": 53
        }
      ]
    },
    {
      "cell_type": "code",
      "metadata": {
        "id": "DN3xoq3eQk3k",
        "colab_type": "code",
        "colab": {}
      },
      "source": [
        "from matplotlib import pyplot as plt"
      ],
      "execution_count": 0,
      "outputs": []
    },
    {
      "cell_type": "code",
      "metadata": {
        "id": "yldqu9UKR-FZ",
        "colab_type": "code",
        "colab": {}
      },
      "source": [
        "t = results.loc[results.RECALL != 1]"
      ],
      "execution_count": 0,
      "outputs": []
    },
    {
      "cell_type": "code",
      "metadata": {
        "id": "1hf66r38SKUw",
        "colab_type": "code",
        "outputId": "ce5f3fda-4230-41e2-f070-6f9f490bc43f",
        "colab": {
          "base_uri": "https://localhost:8080/",
          "height": 312
        }
      },
      "source": [
        "plt.plot(t.RECALL.sort_values(), t.PRECISION.sort_values())\n",
        "plt.plot()\n",
        "plt.ylabel(\"PRECISION\")\n",
        "plt.xlabel(\"RECALL\")\n",
        "plt.title(\"RoBERTa ROC Curve\")"
      ],
      "execution_count": 0,
      "outputs": [
        {
          "output_type": "execute_result",
          "data": {
            "text/plain": [
              "Text(0.5, 1.0, 'RoBERTa ROC Curve')"
            ]
          },
          "metadata": {
            "tags": []
          },
          "execution_count": 75
        },
        {
          "output_type": "display_data",
          "data": {
            "image/png": "[encoded data removed]",
            "text/plain": [
              "<Figure size 432x288 with 1 Axes>"
            ]
          },
          "metadata": {
            "tags": [],
            "needs_background": "light"
          }
        }
      ]
    },
    {
      "cell_type": "code",
      "metadata": {
        "id": "xYarJMrnSg4j",
        "colab_type": "code",
        "outputId": "1958b8fe-6ea5-40c3-b92f-be3c59a47fd4",
        "colab": {
          "base_uri": "https://localhost:8080/",
          "height": 195
        }
      },
      "source": [
        "best_2 = results.iloc[results.groupby(['BATCH_SIZE'])['F1 SCORE'].idxmax()].reset_index().drop('index', axis=1)\n",
        "best_2"
      ],
      "execution_count": 0,
      "outputs": [
        {
          "output_type": "execute_result",
          "data": {
            "text/html": [
              "<div>\n",
              "<style scoped>\n",
              "    .dataframe tbody tr th:only-of-type {\n",
              "        vertical-align: middle;\n",
              "    }\n",
              "\n",
              "    .dataframe tbody tr th {\n",
              "        vertical-align: top;\n",
              "    }\n",
              "\n",
              "    .dataframe thead th {\n",
              "        text-align: right;\n",
              "    }\n",
              "</style>\n",
              "<table border=\"1\" class=\"dataframe\">\n",
              "  <thead>\n",
              "    <tr style=\"text-align: right;\">\n",
              "      <th></th>\n",
              "      <th>BATCH_SIZE</th>\n",
              "      <th>SEQ_LENGTH</th>\n",
              "      <th>LEARNING RATE</th>\n",
              "      <th>ACCURACY</th>\n",
              "      <th>PRECISION</th>\n",
              "      <th>RECALL</th>\n",
              "      <th>F1 SCORE</th>\n",
              "    </tr>\n",
              "  </thead>\n",
              "  <tbody>\n",
              "    <tr>\n",
              "      <th>0</th>\n",
              "      <td>8</td>\n",
              "      <td>256</td>\n",
              "      <td>0.00005</td>\n",
              "      <td>0.738281</td>\n",
              "      <td>0.738281</td>\n",
              "      <td>1.000</td>\n",
              "      <td>0.849438</td>\n",
              "    </tr>\n",
              "    <tr>\n",
              "      <th>1</th>\n",
              "      <td>16</td>\n",
              "      <td>256</td>\n",
              "      <td>0.00010</td>\n",
              "      <td>0.738281</td>\n",
              "      <td>0.738281</td>\n",
              "      <td>1.000</td>\n",
              "      <td>0.849438</td>\n",
              "    </tr>\n",
              "    <tr>\n",
              "      <th>2</th>\n",
              "      <td>32</td>\n",
              "      <td>128</td>\n",
              "      <td>0.00005</td>\n",
              "      <td>0.771973</td>\n",
              "      <td>0.826359</td>\n",
              "      <td>0.875</td>\n",
              "      <td>0.849984</td>\n",
              "    </tr>\n",
              "    <tr>\n",
              "      <th>3</th>\n",
              "      <td>64</td>\n",
              "      <td>256</td>\n",
              "      <td>0.00050</td>\n",
              "      <td>0.738281</td>\n",
              "      <td>0.738281</td>\n",
              "      <td>1.000</td>\n",
              "      <td>0.849438</td>\n",
              "    </tr>\n",
              "    <tr>\n",
              "      <th>4</th>\n",
              "      <td>128</td>\n",
              "      <td>64</td>\n",
              "      <td>0.00050</td>\n",
              "      <td>0.738281</td>\n",
              "      <td>0.738281</td>\n",
              "      <td>1.000</td>\n",
              "      <td>0.849438</td>\n",
              "    </tr>\n",
              "  </tbody>\n",
              "</table>\n",
              "</div>"
            ],
            "text/plain": [
              "   BATCH_SIZE  SEQ_LENGTH  LEARNING RATE  ACCURACY  PRECISION  RECALL  F1 SCORE\n",
              "0           8         256        0.00005  0.738281   0.738281   1.000  0.849438\n",
              "1          16         256        0.00010  0.738281   0.738281   1.000  0.849438\n",
              "2          32         128        0.00005  0.771973   0.826359   0.875  0.849984\n",
              "3          64         256        0.00050  0.738281   0.738281   1.000  0.849438\n",
              "4         128          64        0.00050  0.738281   0.738281   1.000  0.849438"
            ]
          },
          "metadata": {
            "tags": []
          },
          "execution_count": 79
        }
      ]
    },
    {
      "cell_type": "code",
      "metadata": {
        "id": "UGLZ8LbbVT3H",
        "colab_type": "code",
        "colab": {}
      },
      "source": [
        ""
      ],
      "execution_count": 0,
      "outputs": []
    }
  ]
}