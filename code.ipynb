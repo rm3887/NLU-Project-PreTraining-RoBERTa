{
  "nbformat": 4,
  "nbformat_minor": 0,
  "metadata": {
    "colab": {
      "name": "code.ipynb",
      "provenance": [],
      "mount_file_id": "13mLyst81LhAwn1g03p1-7Wc90JyM2oKO",
      "authorship_tag": "ABX9TyN9YZWhuAm3H21xeR9DMZhC",
      "include_colab_link": true
    },
    "kernelspec": {
      "name": "python3",
      "display_name": "Python 3"
    }
  },
  "cells": [
    {
      "cell_type": "markdown",
      "metadata": {
        "id": "view-in-github",
        "colab_type": "text"
      },
      "source": [
        "<a href=\"https://colab.research.google.com/github/rm3887/NLU-Project-RoBERTa/blob/master/code.ipynb\" target=\"_parent\"><img src=\"https://colab.research.google.com/assets/colab-badge.svg\" alt=\"Open In Colab\"/></a>"
      ]
    },
    {
      "cell_type": "code",
      "metadata": {
        "id": "ECR_9pl16DKI",
        "colab_type": "code",
        "colab": {}
      },
      "source": [
        "import pandas as pd"
      ],
      "execution_count": 0,
      "outputs": []
    },
    {
      "cell_type": "code",
      "metadata": {
        "id": "I0y23vYl6HLq",
        "colab_type": "code",
        "colab": {}
      },
      "source": [
        "url = 'https://raw.githubusercontent.com/rm3887/NLU-Project-RoBERTa/master/modlog%20-%20modlog.csv'\n",
        "df = pd.read_csv(url)"
      ],
      "execution_count": 0,
      "outputs": []
    },
    {
      "cell_type": "code",
      "metadata": {
        "id": "g8Qpbgfa6SfD",
        "colab_type": "code",
        "colab": {}
      },
      "source": [
        "df.drop(['Mod_Name', 'Removal_Reason'], inplace = True, axis=1)"
      ],
      "execution_count": 0,
      "outputs": []
    },
    {
      "cell_type": "code",
      "metadata": {
        "id": "9xtL6BOv6k_9",
        "colab_type": "code",
        "colab": {}
      },
      "source": [
        "df.replace('approvecomment', 1, inplace=True)\n",
        "df.replace('removecomment', 0, inplace=True)\n",
        "df.replace('\\n',' ', regex=True, inplace = True)"
      ],
      "execution_count": 0,
      "outputs": []
    },
    {
      "cell_type": "code",
      "metadata": {
        "id": "RpCHEBptVNaT",
        "colab_type": "code",
        "colab": {}
      },
      "source": [
        "df.Text = df.Text.str.replace('\\t', ' ')"
      ],
      "execution_count": 0,
      "outputs": []
    },
    {
      "cell_type": "code",
      "metadata": {
        "id": "FmwJjOw86_tA",
        "colab_type": "code",
        "colab": {}
      },
      "source": [
        "val_size = int(df.shape[0] * 0.15)\n",
        "test_size = int(df.shape[0] * 0.15)\n",
        "\n",
        "df = df.sample(frac=1)\n",
        "\n",
        "test_df = df[:test_size]\n",
        "val_df = df[test_size: test_size + val_size]\n",
        "train_df = df[test_size + val_size: ]"
      ],
      "execution_count": 0,
      "outputs": []
    },
    {
      "cell_type": "code",
      "metadata": {
        "id": "9XDhsqPo8Heo",
        "colab_type": "code",
        "colab": {}
      },
      "source": [
        "def percentages(target_df, total_df):\n",
        "  return len(target_df)/len(total_df)"
      ],
      "execution_count": 0,
      "outputs": []
    },
    {
      "cell_type": "code",
      "metadata": {
        "id": "1Y5DynNt7AH8",
        "colab_type": "code",
        "outputId": "33102077-a6df-4ee0-b78c-6d45bf855aeb",
        "colab": {
          "base_uri": "https://localhost:8080/",
          "height": 90
        }
      },
      "source": [
        "print(\"DF size: \", percentages(df,df))\n",
        "print(\"TRAIN_DF size: \", percentages(train_df,df))\n",
        "print(\"VAL_DF size: \", percentages(val_df,df))\n",
        "print(\"TEST_DF size: \", percentages(test_df,df))"
      ],
      "execution_count": 0,
      "outputs": [
        {
          "output_type": "stream",
          "text": [
            "DF size:  1.0\n",
            "TRAIN_DF size:  0.700058582308143\n",
            "VAL_DF size:  0.14997070884592853\n",
            "TEST_DF size:  0.14997070884592853\n"
          ],
          "name": "stdout"
        }
      ]
    },
    {
      "cell_type": "code",
      "metadata": {
        "id": "tyYqfxatRHbe",
        "colab_type": "code",
        "outputId": "474a0df8-4fd9-4166-eac9-b48f3b2d6574",
        "colab": {
          "base_uri": "https://localhost:8080/",
          "height": 424
        }
      },
      "source": [
        "train_df"
      ],
      "execution_count": 0,
      "outputs": [
        {
          "output_type": "execute_result",
          "data": {
            "text/html": [
              "<div>\n",
              "<style scoped>\n",
              "    .dataframe tbody tr th:only-of-type {\n",
              "        vertical-align: middle;\n",
              "    }\n",
              "\n",
              "    .dataframe tbody tr th {\n",
              "        vertical-align: top;\n",
              "    }\n",
              "\n",
              "    .dataframe thead th {\n",
              "        text-align: right;\n",
              "    }\n",
              "</style>\n",
              "<table border=\"1\" class=\"dataframe\">\n",
              "  <thead>\n",
              "    <tr style=\"text-align: right;\">\n",
              "      <th></th>\n",
              "      <th>Text</th>\n",
              "      <th>Action</th>\n",
              "    </tr>\n",
              "  </thead>\n",
              "  <tbody>\n",
              "    <tr>\n",
              "      <th>342</th>\n",
              "      <td>Lmao Kobe even shaved his moustache like Jorda...</td>\n",
              "      <td>1</td>\n",
              "    </tr>\n",
              "    <tr>\n",
              "      <th>544</th>\n",
              "      <td>If you raise minimum wage, you raise the wages...</td>\n",
              "      <td>1</td>\n",
              "    </tr>\n",
              "    <tr>\n",
              "      <th>10098</th>\n",
              "      <td>This why a National Lockdown would be crazy.  ...</td>\n",
              "      <td>0</td>\n",
              "    </tr>\n",
              "    <tr>\n",
              "      <th>1538</th>\n",
              "      <td>My hatred cannot he captured with just one com...</td>\n",
              "      <td>1</td>\n",
              "    </tr>\n",
              "    <tr>\n",
              "      <th>1962</th>\n",
              "      <td>Kobe only cares about the W</td>\n",
              "      <td>1</td>\n",
              "    </tr>\n",
              "    <tr>\n",
              "      <th>...</th>\n",
              "      <td>...</td>\n",
              "      <td>...</td>\n",
              "    </tr>\n",
              "    <tr>\n",
              "      <th>1310</th>\n",
              "      <td>They live in Indiana. This is all they have to...</td>\n",
              "      <td>1</td>\n",
              "    </tr>\n",
              "    <tr>\n",
              "      <th>2461</th>\n",
              "      <td>The mods are ridiculous: https://imgur.com/o10...</td>\n",
              "      <td>1</td>\n",
              "    </tr>\n",
              "    <tr>\n",
              "      <th>9030</th>\n",
              "      <td>Hopefully selling your team is a symptom of co...</td>\n",
              "      <td>0</td>\n",
              "    </tr>\n",
              "    <tr>\n",
              "      <th>13012</th>\n",
              "      <td>...are you fucking retarded?</td>\n",
              "      <td>0</td>\n",
              "    </tr>\n",
              "    <tr>\n",
              "      <th>8961</th>\n",
              "      <td>This is the most positive thing to happen to t...</td>\n",
              "      <td>0</td>\n",
              "    </tr>\n",
              "  </tbody>\n",
              "</table>\n",
              "<p>9560 rows × 2 columns</p>\n",
              "</div>"
            ],
            "text/plain": [
              "                                                    Text  Action\n",
              "342    Lmao Kobe even shaved his moustache like Jorda...       1\n",
              "544    If you raise minimum wage, you raise the wages...       1\n",
              "10098  This why a National Lockdown would be crazy.  ...       0\n",
              "1538   My hatred cannot he captured with just one com...       1\n",
              "1962                         Kobe only cares about the W       1\n",
              "...                                                  ...     ...\n",
              "1310   They live in Indiana. This is all they have to...       1\n",
              "2461   The mods are ridiculous: https://imgur.com/o10...       1\n",
              "9030   Hopefully selling your team is a symptom of co...       0\n",
              "13012                       ...are you fucking retarded?       0\n",
              "8961   This is the most positive thing to happen to t...       0\n",
              "\n",
              "[9560 rows x 2 columns]"
            ]
          },
          "metadata": {
            "tags": []
          },
          "execution_count": 45
        }
      ]
    },
    {
      "cell_type": "code",
      "metadata": {
        "id": "zJvLCT8d8c7s",
        "colab_type": "code",
        "colab": {}
      },
      "source": [
        "train_df.to_csv(\"/tmp/data/train.tsv\", sep='\\t', index=False, header=True)\n",
        "val_df.to_csv(\"/tmp/data/dev.tsv\", sep='\\t', index=False, header=True)\n",
        "test_df.to_csv(\"/tmp/data/test.tsv\", sep='\\t', index=False, header=True)"
      ],
      "execution_count": 0,
      "outputs": []
    },
    {
      "cell_type": "code",
      "metadata": {
        "id": "UZASoYbw8udL",
        "colab_type": "code",
        "outputId": "941b5fbb-1cf9-490b-935e-b7b2891f30f7",
        "colab": {
          "base_uri": "https://localhost:8080/",
          "height": 108
        }
      },
      "source": [
        "import shutil\n",
        "!zip -r /content/reddit_data.zip /tmp/data/\n",
        "\n",
        "shutil.move(\"/content/reddit_data.zip\", \"/content/drive/My Drive/Colab Notebooks/NLU/\")"
      ],
      "execution_count": 0,
      "outputs": [
        {
          "output_type": "stream",
          "text": [
            "  adding: tmp/data/ (stored 0%)\n",
            "  adding: tmp/data/train.tsv (deflated 58%)\n",
            "  adding: tmp/data/dev.tsv (deflated 58%)\n",
            "  adding: tmp/data/test.tsv (deflated 57%)\n"
          ],
          "name": "stdout"
        },
        {
          "output_type": "execute_result",
          "data": {
            "text/plain": [
              "'/content/drive/My Drive/Colab Notebooks/NLU/reddit_data.zip'"
            ]
          },
          "metadata": {
            "tags": []
          },
          "execution_count": 45
        }
      ]
    },
    {
      "cell_type": "code",
      "metadata": {
        "id": "AArHLC-s__sN",
        "colab_type": "code",
        "outputId": "68b3cd7e-6d3f-4421-d3ed-5bc0eed1d9c9",
        "colab": {
          "base_uri": "https://localhost:8080/",
          "height": 72
        }
      },
      "source": [
        "print(max(train_df.Text.str.len()))\n",
        "print(max(val_df.Text.str.len()))\n",
        "print(max(test_df.Text.str.len()))"
      ],
      "execution_count": 0,
      "outputs": [
        {
          "output_type": "stream",
          "text": [
            "9944.0\n",
            "6988.0\n",
            "6989.0\n"
          ],
          "name": "stdout"
        }
      ]
    },
    {
      "cell_type": "code",
      "metadata": {
        "id": "7CTORLTSYYsE",
        "colab_type": "code",
        "colab": {}
      },
      "source": [
        "url = 'https://raw.githubusercontent.com/rm3887/NLU-Project-RoBERTa/master/roberta-results.csv'"
      ],
      "execution_count": 0,
      "outputs": []
    },
    {
      "cell_type": "code",
      "metadata": {
        "id": "Ldd2qZ0H9QKd",
        "colab_type": "code",
        "colab": {}
      },
      "source": [
        "results = pd.read_csv(url)"
      ],
      "execution_count": 0,
      "outputs": []
    },
    {
      "cell_type": "code",
      "metadata": {
        "id": "Iv1wKarY9Sgq",
        "colab_type": "code",
        "outputId": "d5e5689f-2012-4588-9f38-f8c484154969",
        "colab": {
          "base_uri": "https://localhost:8080/",
          "height": 195
        }
      },
      "source": [
        "best = results.iloc[results.groupby(['BATCH_SIZE'])['ACCURACY'].idxmax()].reset_index().drop('index', axis=1)\n",
        "best"
      ],
      "execution_count": 4,
      "outputs": [
        {
          "output_type": "execute_result",
          "data": {
            "text/html": [
              "<div>\n",
              "<style scoped>\n",
              "    .dataframe tbody tr th:only-of-type {\n",
              "        vertical-align: middle;\n",
              "    }\n",
              "\n",
              "    .dataframe tbody tr th {\n",
              "        vertical-align: top;\n",
              "    }\n",
              "\n",
              "    .dataframe thead th {\n",
              "        text-align: right;\n",
              "    }\n",
              "</style>\n",
              "<table border=\"1\" class=\"dataframe\">\n",
              "  <thead>\n",
              "    <tr style=\"text-align: right;\">\n",
              "      <th></th>\n",
              "      <th>BATCH_SIZE</th>\n",
              "      <th>SEQ_LENGTH</th>\n",
              "      <th>LEARNING RATE</th>\n",
              "      <th>ACCURACY</th>\n",
              "      <th>PRECISION</th>\n",
              "      <th>RECALL</th>\n",
              "      <th>F1 SCORE</th>\n",
              "    </tr>\n",
              "  </thead>\n",
              "  <tbody>\n",
              "    <tr>\n",
              "      <th>0</th>\n",
              "      <td>8</td>\n",
              "      <td>64</td>\n",
              "      <td>0.00001</td>\n",
              "      <td>0.759277</td>\n",
              "      <td>0.536290</td>\n",
              "      <td>0.496269</td>\n",
              "      <td>0.515504</td>\n",
              "    </tr>\n",
              "    <tr>\n",
              "      <th>1</th>\n",
              "      <td>16</td>\n",
              "      <td>256</td>\n",
              "      <td>0.00005</td>\n",
              "      <td>0.759766</td>\n",
              "      <td>0.547826</td>\n",
              "      <td>0.470149</td>\n",
              "      <td>0.506024</td>\n",
              "    </tr>\n",
              "    <tr>\n",
              "      <th>2</th>\n",
              "      <td>32</td>\n",
              "      <td>256</td>\n",
              "      <td>0.00005</td>\n",
              "      <td>0.765625</td>\n",
              "      <td>0.559322</td>\n",
              "      <td>0.492537</td>\n",
              "      <td>0.523810</td>\n",
              "    </tr>\n",
              "    <tr>\n",
              "      <th>3</th>\n",
              "      <td>64</td>\n",
              "      <td>256</td>\n",
              "      <td>0.00005</td>\n",
              "      <td>0.761230</td>\n",
              "      <td>0.554023</td>\n",
              "      <td>0.449627</td>\n",
              "      <td>0.496395</td>\n",
              "    </tr>\n",
              "    <tr>\n",
              "      <th>4</th>\n",
              "      <td>128</td>\n",
              "      <td>64</td>\n",
              "      <td>0.00010</td>\n",
              "      <td>0.752930</td>\n",
              "      <td>0.531250</td>\n",
              "      <td>0.475746</td>\n",
              "      <td>0.501969</td>\n",
              "    </tr>\n",
              "  </tbody>\n",
              "</table>\n",
              "</div>"
            ],
            "text/plain": [
              "   BATCH_SIZE  SEQ_LENGTH  LEARNING RATE  ...  PRECISION    RECALL  F1 SCORE\n",
              "0           8          64        0.00001  ...   0.536290  0.496269  0.515504\n",
              "1          16         256        0.00005  ...   0.547826  0.470149  0.506024\n",
              "2          32         256        0.00005  ...   0.559322  0.492537  0.523810\n",
              "3          64         256        0.00005  ...   0.554023  0.449627  0.496395\n",
              "4         128          64        0.00010  ...   0.531250  0.475746  0.501969\n",
              "\n",
              "[5 rows x 7 columns]"
            ]
          },
          "metadata": {
            "tags": []
          },
          "execution_count": 4
        }
      ]
    },
    {
      "cell_type": "markdown",
      "metadata": {
        "id": "C33w3F76Ct6h",
        "colab_type": "text"
      },
      "source": [
        "Baseline model found at https://github.com/anushapatil5/NLU-ContentModeration"
      ]
    },
    {
      "cell_type": "code",
      "metadata": {
        "id": "zHEejdaS97Bx",
        "colab_type": "code",
        "colab": {}
      },
      "source": [
        "from_baseline_acc = [0.744140625, 0.74560546875, 0.74658203125, 0.73876953125, 0.7265625]"
      ],
      "execution_count": 0,
      "outputs": []
    },
    {
      "cell_type": "code",
      "metadata": {
        "id": "fDBe40hbC1ac",
        "colab_type": "code",
        "outputId": "d9dc4ab5-6608-4f9c-e956-e974e083912e",
        "colab": {
          "base_uri": "https://localhost:8080/",
          "height": 34
        }
      },
      "source": [
        "max(from_baseline_acc)"
      ],
      "execution_count": 6,
      "outputs": [
        {
          "output_type": "execute_result",
          "data": {
            "text/plain": [
              "0.74658203125"
            ]
          },
          "metadata": {
            "tags": []
          },
          "execution_count": 6
        }
      ]
    },
    {
      "cell_type": "code",
      "metadata": {
        "id": "ivr1BK6oC4fS",
        "colab_type": "code",
        "colab": {}
      },
      "source": [
        "bar_y = [max(from_baseline_acc), best['ACCURACY'].max()]\n",
        "bar_x = ['baseline', 'RoBERTa']"
      ],
      "execution_count": 0,
      "outputs": []
    },
    {
      "cell_type": "code",
      "metadata": {
        "id": "rTmab37VDGcd",
        "colab_type": "code",
        "outputId": "0d0b4065-9ab4-4453-8ff8-3eb516787708",
        "colab": {
          "base_uri": "https://localhost:8080/",
          "height": 281
        }
      },
      "source": [
        "import matplotlib.pyplot as plt\n",
        "import math\n",
        "\n",
        "low = min(bar_y)\n",
        "high = max(bar_y)\n",
        "plt.bar(bar_x, bar_y, color = 'orange')\n",
        "plt.ylim((0.7,0.8))\n",
        "plt.ylabel(\"Accuracy\")\n",
        "plt.title(\"Best Accuracy Between Two Model\")\n",
        "for i, v in enumerate(bar_y):\n",
        "    plt.text(i-0.2, v, \"{:.8}\".format(str(v)), color='black', fontweight='bold')"
      ],
      "execution_count": 8,
      "outputs": [
        {
          "output_type": "display_data",
          "data": {
            "image/png": "[encoded data removed]",
            "text/plain": [
              "<Figure size 432x288 with 1 Axes>"
            ]
          },
          "metadata": {
            "tags": [],
            "needs_background": "light"
          }
        }
      ]
    },
    {
      "cell_type": "code",
      "metadata": {
        "id": "mJYtrtKWFJxP",
        "colab_type": "code",
        "outputId": "4e66bd6a-94b5-42e3-a415-88522ad27537",
        "colab": {
          "base_uri": "https://localhost:8080/",
          "height": 402
        }
      },
      "source": [
        "results"
      ],
      "execution_count": 9,
      "outputs": [
        {
          "output_type": "execute_result",
          "data": {
            "text/html": [
              "<div>\n",
              "<style scoped>\n",
              "    .dataframe tbody tr th:only-of-type {\n",
              "        vertical-align: middle;\n",
              "    }\n",
              "\n",
              "    .dataframe tbody tr th {\n",
              "        vertical-align: top;\n",
              "    }\n",
              "\n",
              "    .dataframe thead th {\n",
              "        text-align: right;\n",
              "    }\n",
              "</style>\n",
              "<table border=\"1\" class=\"dataframe\">\n",
              "  <thead>\n",
              "    <tr style=\"text-align: right;\">\n",
              "      <th></th>\n",
              "      <th>BATCH_SIZE</th>\n",
              "      <th>SEQ_LENGTH</th>\n",
              "      <th>LEARNING RATE</th>\n",
              "      <th>ACCURACY</th>\n",
              "      <th>PRECISION</th>\n",
              "      <th>RECALL</th>\n",
              "      <th>F1 SCORE</th>\n",
              "    </tr>\n",
              "  </thead>\n",
              "  <tbody>\n",
              "    <tr>\n",
              "      <th>0</th>\n",
              "      <td>8</td>\n",
              "      <td>256</td>\n",
              "      <td>0.00001</td>\n",
              "      <td>0.750488</td>\n",
              "      <td>0.539652</td>\n",
              "      <td>0.520524</td>\n",
              "      <td>0.529915</td>\n",
              "    </tr>\n",
              "    <tr>\n",
              "      <th>1</th>\n",
              "      <td>8</td>\n",
              "      <td>256</td>\n",
              "      <td>0.00005</td>\n",
              "      <td>0.738281</td>\n",
              "      <td>0.000000</td>\n",
              "      <td>0.000000</td>\n",
              "      <td>0.000000</td>\n",
              "    </tr>\n",
              "    <tr>\n",
              "      <th>2</th>\n",
              "      <td>8</td>\n",
              "      <td>256</td>\n",
              "      <td>0.00010</td>\n",
              "      <td>0.738281</td>\n",
              "      <td>0.000000</td>\n",
              "      <td>0.000000</td>\n",
              "      <td>0.000000</td>\n",
              "    </tr>\n",
              "    <tr>\n",
              "      <th>3</th>\n",
              "      <td>8</td>\n",
              "      <td>256</td>\n",
              "      <td>0.00050</td>\n",
              "      <td>0.738281</td>\n",
              "      <td>0.000000</td>\n",
              "      <td>0.000000</td>\n",
              "      <td>0.000000</td>\n",
              "    </tr>\n",
              "    <tr>\n",
              "      <th>4</th>\n",
              "      <td>8</td>\n",
              "      <td>256</td>\n",
              "      <td>0.00100</td>\n",
              "      <td>0.738281</td>\n",
              "      <td>0.000000</td>\n",
              "      <td>0.000000</td>\n",
              "      <td>0.000000</td>\n",
              "    </tr>\n",
              "    <tr>\n",
              "      <th>...</th>\n",
              "      <td>...</td>\n",
              "      <td>...</td>\n",
              "      <td>...</td>\n",
              "      <td>...</td>\n",
              "      <td>...</td>\n",
              "      <td>...</td>\n",
              "      <td>...</td>\n",
              "    </tr>\n",
              "    <tr>\n",
              "      <th>99</th>\n",
              "      <td>128</td>\n",
              "      <td>32</td>\n",
              "      <td>0.00005</td>\n",
              "      <td>0.729980</td>\n",
              "      <td>0.483168</td>\n",
              "      <td>0.455224</td>\n",
              "      <td>0.468780</td>\n",
              "    </tr>\n",
              "    <tr>\n",
              "      <th>100</th>\n",
              "      <td>128</td>\n",
              "      <td>32</td>\n",
              "      <td>0.00010</td>\n",
              "      <td>0.737793</td>\n",
              "      <td>0.496970</td>\n",
              "      <td>0.152985</td>\n",
              "      <td>0.233951</td>\n",
              "    </tr>\n",
              "    <tr>\n",
              "      <th>101</th>\n",
              "      <td>128</td>\n",
              "      <td>32</td>\n",
              "      <td>0.00050</td>\n",
              "      <td>0.738281</td>\n",
              "      <td>0.000000</td>\n",
              "      <td>0.000000</td>\n",
              "      <td>0.000000</td>\n",
              "    </tr>\n",
              "    <tr>\n",
              "      <th>102</th>\n",
              "      <td>128</td>\n",
              "      <td>32</td>\n",
              "      <td>0.00100</td>\n",
              "      <td>0.738281</td>\n",
              "      <td>0.000000</td>\n",
              "      <td>0.000000</td>\n",
              "      <td>0.000000</td>\n",
              "    </tr>\n",
              "    <tr>\n",
              "      <th>103</th>\n",
              "      <td>128</td>\n",
              "      <td>32</td>\n",
              "      <td>0.00500</td>\n",
              "      <td>0.738281</td>\n",
              "      <td>0.000000</td>\n",
              "      <td>0.000000</td>\n",
              "      <td>0.000000</td>\n",
              "    </tr>\n",
              "  </tbody>\n",
              "</table>\n",
              "<p>104 rows × 7 columns</p>\n",
              "</div>"
            ],
            "text/plain": [
              "     BATCH_SIZE  SEQ_LENGTH  LEARNING RATE  ...  PRECISION    RECALL  F1 SCORE\n",
              "0             8         256        0.00001  ...   0.539652  0.520524  0.529915\n",
              "1             8         256        0.00005  ...   0.000000  0.000000  0.000000\n",
              "2             8         256        0.00010  ...   0.000000  0.000000  0.000000\n",
              "3             8         256        0.00050  ...   0.000000  0.000000  0.000000\n",
              "4             8         256        0.00100  ...   0.000000  0.000000  0.000000\n",
              "..          ...         ...            ...  ...        ...       ...       ...\n",
              "99          128          32        0.00005  ...   0.483168  0.455224  0.468780\n",
              "100         128          32        0.00010  ...   0.496970  0.152985  0.233951\n",
              "101         128          32        0.00050  ...   0.000000  0.000000  0.000000\n",
              "102         128          32        0.00100  ...   0.000000  0.000000  0.000000\n",
              "103         128          32        0.00500  ...   0.000000  0.000000  0.000000\n",
              "\n",
              "[104 rows x 7 columns]"
            ]
          },
          "metadata": {
            "tags": []
          },
          "execution_count": 9
        }
      ]
    },
    {
      "cell_type": "code",
      "metadata": {
        "id": "D96IPJlchtkp",
        "colab_type": "code",
        "colab": {}
      },
      "source": [
        ""
      ],
      "execution_count": 0,
      "outputs": []
    }
  ]
}